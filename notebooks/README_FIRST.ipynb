{
 "cells": [
  {
   "attachments": {},
   "cell_type": "markdown",
   "metadata": {},
   "source": [
    "# R Setup Test\n",
    "\n",
    "This notebook contains a number of tests to ensure that all required libraries are available and work correctly."
   ]
  },
  {
   "cell_type": "code",
   "execution_count": 2,
   "metadata": {
    "vscode": {
     "languageId": "r"
    }
   },
   "outputs": [
    {
     "data": {
      "text/html": [
       "<style>\n",
       ".list-inline {list-style: none; margin:0; padding: 0}\n",
       ".list-inline>li {display: inline-block}\n",
       ".list-inline>li:not(:last-child)::after {content: \"\\00b7\"; padding: 0 .5ex}\n",
       "</style>\n",
       "<ol class=list-inline><li>1</li><li>3</li><li>5</li><li>2</li><li>6</li><li>7</li></ol>\n"
      ],
      "text/latex": [
       "\\begin{enumerate*}\n",
       "\\item 1\n",
       "\\item 3\n",
       "\\item 5\n",
       "\\item 2\n",
       "\\item 6\n",
       "\\item 7\n",
       "\\end{enumerate*}\n"
      ],
      "text/markdown": [
       "1. 1\n",
       "2. 3\n",
       "3. 5\n",
       "4. 2\n",
       "5. 6\n",
       "6. 7\n",
       "\n",
       "\n"
      ],
      "text/plain": [
       "[1] 1 3 5 2 6 7"
      ]
     },
     "metadata": {},
     "output_type": "display_data"
    }
   ],
   "source": [
    "x <- c(1,3,5,2,6,7)\n",
    "y <- c(2,6,8,3,7,8)\n",
    "x"
   ]
  },
  {
   "cell_type": "code",
   "execution_count": 3,
   "metadata": {
    "vscode": {
     "languageId": "r"
    }
   },
   "outputs": [
    {
     "data": {
      "text/html": [
       "4"
      ],
      "text/latex": [
       "4"
      ],
      "text/markdown": [
       "4"
      ],
      "text/plain": [
       "[1] 4"
      ]
     },
     "metadata": {},
     "output_type": "display_data"
    },
    {
     "data": {
      "text/html": [
       "5.66666666666667"
      ],
      "text/latex": [
       "5.66666666666667"
      ],
      "text/markdown": [
       "5.66666666666667"
      ],
      "text/plain": [
       "[1] 5.666667"
      ]
     },
     "metadata": {},
     "output_type": "display_data"
    },
    {
     "data": {
      "text/plain": [
       "\n",
       "Call:\n",
       "lm(formula = y ~ x)\n",
       "\n",
       "Residuals:\n",
       "      1       2       3       4       5       6 \n",
       "-0.6667  1.3333  1.3333 -0.6667 -0.6667 -0.6667 \n",
       "\n",
       "Coefficients:\n",
       "            Estimate Std. Error t value Pr(>|t|)  \n",
       "(Intercept)   1.6667     0.9920   1.680   0.1682  \n",
       "x             1.0000     0.2182   4.583   0.0102 *\n",
       "---\n",
       "Signif. codes:  0 ‘***’ 0.001 ‘**’ 0.01 ‘*’ 0.05 ‘.’ 0.1 ‘ ’ 1\n",
       "\n",
       "Residual standard error: 1.155 on 4 degrees of freedom\n",
       "Multiple R-squared:   0.84,\tAdjusted R-squared:    0.8 \n",
       "F-statistic:    21 on 1 and 4 DF,  p-value: 0.01016\n"
      ]
     },
     "metadata": {},
     "output_type": "display_data"
    }
   ],
   "source": [
    "mean(x)\n",
    "mean(y)\n",
    "\n",
    "fit <- lm(y~x)\n",
    "summary(fit)"
   ]
  },
  {
   "attachments": {},
   "cell_type": "markdown",
   "metadata": {},
   "source": [
    "Now load the required libraries. Note plm is not currently used M348's notebooks because I coulnd't get it to work on the version of R I use for the notebooks (and hence many students would also have problems). However some of the teaching would be cleaner if we did use it."
   ]
  },
  {
   "cell_type": "code",
   "execution_count": 4,
   "metadata": {
    "vscode": {
     "languageId": "r"
    }
   },
   "outputs": [
    {
     "name": "stderr",
     "output_type": "stream",
     "text": [
      "Registered S3 method overwritten by 'quantmod':\n",
      "  method            from\n",
      "  as.zoo.data.frame zoo \n",
      "\n"
     ]
    }
   ],
   "source": [
    "library(M348)\n",
    "library(tseries)\n",
    "library(nlme)\n",
    "library(urca)\n",
    "library(plm)"
   ]
  },
  {
   "cell_type": "markdown",
   "metadata": {},
   "source": [
    "First check use load one of the datasets in M348 and get the first few lines of it displayed."
   ]
  },
  {
   "cell_type": "code",
   "execution_count": 6,
   "metadata": {
    "vscode": {
     "languageId": "r"
    }
   },
   "outputs": [
    {
     "data": {
      "text/html": [
       "<table class=\"dataframe\">\n",
       "<caption>A data.frame: 6 × 8</caption>\n",
       "<thead>\n",
       "\t<tr><th></th><th scope=col>exper</th><th scope=col>occupation</th><th scope=col>gender</th><th scope=col>educ</th><th scope=col>ethnicity</th><th scope=col>wageLog</th><th scope=col>period</th><th scope=col>id</th></tr>\n",
       "\t<tr><th></th><th scope=col>&lt;dbl&gt;</th><th scope=col>&lt;dbl&gt;</th><th scope=col>&lt;dbl&gt;</th><th scope=col>&lt;dbl&gt;</th><th scope=col>&lt;dbl&gt;</th><th scope=col>&lt;dbl&gt;</th><th scope=col>&lt;dbl&gt;</th><th scope=col>&lt;dbl&gt;</th></tr>\n",
       "</thead>\n",
       "<tbody>\n",
       "\t<tr><th scope=row>1</th><td>3</td><td>0</td><td>0</td><td>9</td><td>0</td><td>5.56068</td><td>1</td><td>1</td></tr>\n",
       "\t<tr><th scope=row>2</th><td>4</td><td>0</td><td>0</td><td>9</td><td>0</td><td>5.72031</td><td>2</td><td>1</td></tr>\n",
       "\t<tr><th scope=row>3</th><td>5</td><td>0</td><td>0</td><td>9</td><td>0</td><td>5.99645</td><td>3</td><td>1</td></tr>\n",
       "\t<tr><th scope=row>4</th><td>6</td><td>0</td><td>0</td><td>9</td><td>0</td><td>5.99645</td><td>4</td><td>1</td></tr>\n",
       "\t<tr><th scope=row>5</th><td>7</td><td>0</td><td>0</td><td>9</td><td>0</td><td>6.06146</td><td>5</td><td>1</td></tr>\n",
       "\t<tr><th scope=row>6</th><td>8</td><td>0</td><td>0</td><td>9</td><td>0</td><td>6.17379</td><td>6</td><td>1</td></tr>\n",
       "</tbody>\n",
       "</table>\n"
      ],
      "text/latex": [
       "A data.frame: 6 × 8\n",
       "\\begin{tabular}{r|llllllll}\n",
       "  & exper & occupation & gender & educ & ethnicity & wageLog & period & id\\\\\n",
       "  & <dbl> & <dbl> & <dbl> & <dbl> & <dbl> & <dbl> & <dbl> & <dbl>\\\\\n",
       "\\hline\n",
       "\t1 & 3 & 0 & 0 & 9 & 0 & 5.56068 & 1 & 1\\\\\n",
       "\t2 & 4 & 0 & 0 & 9 & 0 & 5.72031 & 2 & 1\\\\\n",
       "\t3 & 5 & 0 & 0 & 9 & 0 & 5.99645 & 3 & 1\\\\\n",
       "\t4 & 6 & 0 & 0 & 9 & 0 & 5.99645 & 4 & 1\\\\\n",
       "\t5 & 7 & 0 & 0 & 9 & 0 & 6.06146 & 5 & 1\\\\\n",
       "\t6 & 8 & 0 & 0 & 9 & 0 & 6.17379 & 6 & 1\\\\\n",
       "\\end{tabular}\n"
      ],
      "text/markdown": [
       "\n",
       "A data.frame: 6 × 8\n",
       "\n",
       "| <!--/--> | exper &lt;dbl&gt; | occupation &lt;dbl&gt; | gender &lt;dbl&gt; | educ &lt;dbl&gt; | ethnicity &lt;dbl&gt; | wageLog &lt;dbl&gt; | period &lt;dbl&gt; | id &lt;dbl&gt; |\n",
       "|---|---|---|---|---|---|---|---|---|\n",
       "| 1 | 3 | 0 | 0 | 9 | 0 | 5.56068 | 1 | 1 |\n",
       "| 2 | 4 | 0 | 0 | 9 | 0 | 5.72031 | 2 | 1 |\n",
       "| 3 | 5 | 0 | 0 | 9 | 0 | 5.99645 | 3 | 1 |\n",
       "| 4 | 6 | 0 | 0 | 9 | 0 | 5.99645 | 4 | 1 |\n",
       "| 5 | 7 | 0 | 0 | 9 | 0 | 6.06146 | 5 | 1 |\n",
       "| 6 | 8 | 0 | 0 | 9 | 0 | 6.17379 | 6 | 1 |\n",
       "\n"
      ],
      "text/plain": [
       "  exper occupation gender educ ethnicity wageLog period id\n",
       "1 3     0          0      9    0         5.56068 1      1 \n",
       "2 4     0          0      9    0         5.72031 2      1 \n",
       "3 5     0          0      9    0         5.99645 3      1 \n",
       "4 6     0          0      9    0         5.99645 4      1 \n",
       "5 7     0          0      9    0         6.06146 5      1 \n",
       "6 8     0          0      9    0         6.17379 6      1 "
      ]
     },
     "metadata": {},
     "output_type": "display_data"
    }
   ],
   "source": [
    "# Load the psid data frame\n",
    "data(psid)\n",
    "# Remove variables that are not needed\n",
    "psid$weeks <- NULL\n",
    "psid$industry <- NULL\n",
    "psid$south <- NULL\n",
    "psid$smsa <- NULL\n",
    "psid$maritalStatus <- NULL\n",
    "psid$union <- NULL\n",
    "psid$experienceSquare <- NULL\n",
    "# Rename variables\n",
    "names(psid) <- c('exper', 'occupation', 'gender', 'educ', 'ethnicity','wageLog', 'period', 'id')\n",
    "# Check the data frame is now OK\n",
    "head(psid)\n",
    "# Make the vectors in the psid data frame directly accessible to R\n",
    "attach(psid)"
   ]
  },
  {
   "attachments": {},
   "cell_type": "markdown",
   "metadata": {},
   "source": [
    "Just to check that we can obtain plots"
   ]
  },
  {
   "cell_type": "code",
   "execution_count": 7,
   "metadata": {
    "vscode": {
     "languageId": "r"
    }
   },
   "outputs": [
    {
     "data": {
      "image/png": "[encoded data removed]",
      "text/plain": [
       "plot without title"
      ]
     },
     "metadata": {
      "image/png": {
       "height": 420,
       "width": 420
      }
     },
     "output_type": "display_data"
    }
   ],
   "source": [
    "plot(exper, wageLog, pch=16, col=\"red\")"
   ]
  },
  {
   "cell_type": "code",
   "execution_count": null,
   "metadata": {
    "vscode": {
     "languageId": "r"
    }
   },
   "outputs": [],
   "source": []
  }
 ],
 "metadata": {
  "kernelspec": {
   "display_name": "R",
   "language": "R",
   "name": "ir"
  },
  "language_info": {
   "codemirror_mode": "r",
   "file_extension": ".r",
   "mimetype": "text/x-r-source",
   "name": "R",
   "pygments_lexer": "r",
   "version": "4.0.4"
  },
  "orig_nbformat": 4
 },
 "nbformat": 4,
 "nbformat_minor": 2
}
